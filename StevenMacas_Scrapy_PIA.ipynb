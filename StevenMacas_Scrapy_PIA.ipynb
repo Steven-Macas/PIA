{
  "nbformat": 4,
  "nbformat_minor": 0,
  "metadata": {
    "colab": {
      "provenance": [],
      "authorship_tag": "ABX9TyOdLU5lnOJV/7AgdYif5ZCd",
      "include_colab_link": true
    },
    "kernelspec": {
      "name": "python3",
      "display_name": "Python 3"
    },
    "language_info": {
      "name": "python"
    }
  },
  "cells": [
    {
      "cell_type": "markdown",
      "metadata": {
        "id": "view-in-github",
        "colab_type": "text"
      },
      "source": [
        "<a href=\"https://colab.research.google.com/github/Steven-Macas/PIA/blob/Python/StevenMacas_Scrapy_PIA.ipynb\" target=\"_parent\"><img src=\"https://colab.research.google.com/assets/colab-badge.svg\" alt=\"Open In Colab\"/></a>"
      ]
    },
    {
      "cell_type": "markdown",
      "source": [
        "# ***Crear una araña que recorra una página web y extraigas los datos***\n",
        "\n",
        "---\n",
        "\n"
      ],
      "metadata": {
        "id": "L2OtlIuECEoX"
      }
    },
    {
      "cell_type": "code",
      "execution_count": null,
      "metadata": {
        "id": "mgbj0v5oB-43"
      },
      "outputs": [],
      "source": [
        "#version3.steven\n",
        "import scrapy\n",
        "#from proyecto_imdb.items import ProyectoImdbItem\n",
        "\n",
        "\n",
        "class ImdbSpider(scrapy.Spider):\n",
        "    _page = 1\n",
        "    name = 'imdb'\n",
        "    allowed_domains = ['www.imdb.com']\n",
        "    initial_url = 'https://www.imdb.com'\n",
        "    start_urls = ['https://www.imdb.com/search/title/?genres=comedy&explore=title_type,genres&pf_rd_m=A2FGELUUNOQJNL&pf_rd_p=3396781f-d87f-4fac-8694-c56ce6f490fe&pf_rd_r=W15HBXJWV2E2BNKRC8EV&pf_rd_s=center-1&pf_rd_t=15051&pf_rd_i=genre&ref_=ft_gnr_pr1_i_1']\n",
        "\n",
        "    #Método generadora\n",
        "    def parse(self, response):\n",
        "      #Dos métodos: CSS() y xpath()\n",
        "      #item = ProyectoImdbItem()\n",
        "\n",
        "      movies = response.css('div.lister > div.lister-list > div.lister-item')\n",
        "      for movie in movies:\n",
        "          self.position = movie.css('span.lister-item-index::text').get()#div.lister-item-content > h3.lister-item-header > span.lister-item-index\n",
        "          self.title = movie.css(\"h3.lister-item-header > a::text\").get()\n",
        "          self.date = movie.css(\"span.lister-item-year::text\").get()\n",
        "          href = movie.css(\"a::attr(href)\").get()\n",
        "          link = self.initial_url + href\n",
        "          stars = movie.css(\"p > a::text\").getall()\n",
        "\n",
        "          #La otra forma que se intentó\n",
        "\n",
        "          \"\"\"position = movie.css('span.lister-item-index::text').get()#div.lister-item-content > h3.lister-item-header > span.lister-item-index\n",
        "          title = movie.css(\"h3.lister-item-header > a::text\").get()\n",
        "          date = movie.css(\"span.lister-item-year::text\").get()\n",
        "          stars = movie.css('h3.lister-item-header > p::text').get()\n",
        "          item = {\n",
        "            'position':position,\n",
        "            'title':title,\n",
        "            'date':date,\n",
        "            'stars':stars,\n",
        "            'resennas_users':None,\n",
        "            'resennas_criticos':None\n",
        "          }\"\"\"\n",
        "\n",
        "          #Meterse en cada pelicula para conseguir las reseñas de usuarios y criticos\n",
        "          #link_movie = self.initial_url + movie.css('h3 > a::attr(href)').get()\n",
        "          #yield scrapy.Request(url = link_movie, callback = self.parse_detail, cb_kwargs={'imdb_item':item} )\n",
        "          #Como hubo problemas, al final no se conseguió que funcionara con éxito del todo, en este caso, al final no se usará la funcion parseMovie pero se mostrará como ejemplo de como se hubiera llevado a cabo\n",
        "\n",
        "          yield{\n",
        "            #'author': authors,\n",
        "            'position':self.position,\n",
        "            'title': self.title,\n",
        "            'date': self.date,\n",
        "            'stars': stars,\n",
        "            'link':link\n",
        "          }\n",
        "\n",
        "\n",
        "      \n",
        "      # go to next page\n",
        "      next_page = response.css(\"div.desc a.lister-page-next::attr(href)\").get()\n",
        "      if self._page < 15:\n",
        "          yield response.follow(next_page, callback=self.parse)\n",
        "          self._page+=1\n",
        "\n",
        "\n",
        "    def parseMovie(self,response,item):\n",
        "\n",
        "      rese_usu1 = response.css('li:nth-child(1) > a > span > span')\n",
        "      rese_usu = rese_usu1.css('span::text').get()\n",
        "      rese_criti2 = response.css('li:nth-child(2) > a > span > span')\n",
        "      rese_criti = rese_criti2.css('span::text').get()\n",
        "\n",
        "      item['resennas_users'] = rese_usu\n",
        "      item['resennas_users'] = rese_criti\n",
        "\n",
        "      #Los datos obtenidos lo devolvemos\n",
        "      yield{\n",
        "            'position':item['position'],\n",
        "            'title': item['title'],\n",
        "            'date': item['date'],\n",
        "            'stars': item['stars'],\n",
        "            'resennas_users':item['resennas_users'],\n",
        "            'resennas_criticos':item['resennas_criticos']\n",
        "          }"
      ]
    }
  ]
}