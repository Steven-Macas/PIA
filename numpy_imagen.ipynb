{
  "nbformat": 4,
  "nbformat_minor": 0,
  "metadata": {
    "colab": {
      "provenance": [],
      "authorship_tag": "ABX9TyNg2fubtSWxWetx53x47I1e",
      "include_colab_link": true
    },
    "kernelspec": {
      "name": "python3",
      "display_name": "Python 3"
    },
    "language_info": {
      "name": "python"
    }
  },
  "cells": [
    {
      "cell_type": "markdown",
      "metadata": {
        "id": "view-in-github",
        "colab_type": "text"
      },
      "source": [
        "<a href=\"https://colab.research.google.com/github/Steven-Macas/PIA/blob/Python/numpy_imagen.ipynb\" target=\"_parent\"><img src=\"https://colab.research.google.com/assets/colab-badge.svg\" alt=\"Open In Colab\"/></a>"
      ]
    },
    {
      "cell_type": "code",
      "execution_count": 47,
      "metadata": {
        "colab": {
          "base_uri": "https://localhost:8080/"
        },
        "id": "0HNnivJupF04",
        "outputId": "8631182b-433d-461d-ada2-c09a7d794f69"
      },
      "outputs": [
        {
          "output_type": "execute_result",
          "data": {
            "text/plain": [
              "3"
            ]
          },
          "metadata": {},
          "execution_count": 47
        }
      ],
      "source": [
        "from PIL import Image\n",
        "import numpy as np\n",
        "import random\n",
        "\n",
        "class Imagen:\n",
        "    def __init__(self,nombre,):\n",
        "      self._nombre=nombre\n",
        "    \n",
        "    def creaImagen(self,altura,ancho,color):\n",
        "      self._ancho=ancho\n",
        "      self._altura=altura\n",
        "      self._color=color\n",
        "      self._data = np.zeros((self._altura,self._ancho,3), dtype = np.uint8 )\n",
        "\n",
        "      for i in range(0, self._data.shape[0]):\n",
        "        for j in range(0, self._data.shape[1]):\n",
        "            self._data[i, j] = self._color\n",
        "      self._img = Image.fromarray(self._data)\n",
        "      return self._img\n",
        "\n",
        "    def aumentarTamano(self,v_horiz,v_vert):\n",
        "      self._v_vertical = v_vert\n",
        "      self._v_horizontal = v_horiz\n",
        "      #Vertical\n",
        "      for a in range(0,self._v_vertical):\n",
        "        #Horizontal\n",
        "        for b in range(0,self._v_horizontal):\n",
        "          color = (random.randint(0,255), random.randint(0,255), random.randint(0,255))\n",
        "          if a==0 and b==0:\n",
        "            fila = self._data\n",
        "          elif b == 0:\n",
        "            arr=np.zeros((self._altura,self._ancho,3), dtype = np.uint8)\n",
        "            \"\"\"for y in range(0, arr.shape[0]):\n",
        "              for x in range(0, arr.shape[1]):\n",
        "                arr[y, x] = color\"\"\"\n",
        "            arr[0:self._altura, 0:self._ancho] = color\n",
        "            fila = arr\n",
        "          else:\n",
        "            arr=np.zeros((self._altura,self._ancho,3), dtype = np.uint8)\n",
        "            arr[0:self._altura, 0:self._ancho] = color\n",
        "            fila = np.hstack((fila,arr))\n",
        "        if a == 0:\n",
        "          matriz = fila\n",
        "        else:\n",
        "          matriz = np.vstack([matriz,fila])\n",
        "      self._matriz = matriz\n",
        "      self._img = Image.fromarray(self._matriz)\n",
        "      return self._img\n",
        "\n",
        "    def redimensionar(self,ancho,alto):\n",
        "      self._img = self._img.resize((alto,ancho))\n",
        "      #self._data =  np.asarray(img)\n",
        "      return self._img\n",
        "\n",
        "    def set_alto(self,alto_nuevo):\n",
        "      #img = Image.fromarray(data)\n",
        "      anchura = self._img.width\n",
        "      altura = self._img.height\n",
        "      ancho_nuevo = int((alto_nuevo*anchura)/altura)\n",
        "      self._img = self._img.resize((ancho_nuevo, alto_nuevo))\n",
        "      return self._img\n",
        "\n",
        "    def set_ancho(self,ancho_nuevo):\n",
        "      #img = Image.fromarray(data)\n",
        "      anchura = self._img.width\n",
        "      altura = self._img.height\n",
        "      alto_nuevo = int((ancho_nuevo*altura)/anchura)\n",
        "      self._img = self._img.resize((ancho_nuevo, alto_nuevo))\n",
        "      return self._img\n",
        "\n",
        "    def trozo_img(self, vert_ini,vert_fin,horiz_ini,horiz_fin):\n",
        "      self._matriz = np.asarray(self._img)\n",
        "      trozo_img = self._matriz[vert_ini:vert_fin, horiz_ini:horiz_fin]\n",
        "      self._img = Image.fromarray(trozo_img)\n",
        "      return self._img\n",
        "\n",
        "    def  apilar_img_adaptar(self):\n",
        "      #dimensiones = (self._img.width,self._img.height)\n",
        "      #self._matriz2 = np.asarray(img2)\n",
        "      dimension = self._matriz.shape\n",
        "      columnas = dimension[0]/150\n",
        "      return int(columnas)\n",
        "\n",
        "\n",
        "imagen=Imagen('numpy')\n",
        "imagen.creaImagen(100,150,[15,60,110])\n",
        "imagen.aumentarTamano(6,5)\n",
        "imagen.redimensionar(400,900)\n",
        "#imagen.set_alto(300)\n",
        "#imagen.set_ancho(300)\n",
        "#imagen.trozo_img(25,975,25,875)\n",
        "\"\"\"imagen2=Imagen('numpy2')\n",
        "imagen2.creaImagen(100,150,[15,60,110])\n",
        "img = imagen2.aumentarTamano(4,5)\"\"\"\n",
        "imagen.redimensionar(400,300)\n",
        "imagen.apilar_img_adaptar()"
      ]
    }
  ]
}