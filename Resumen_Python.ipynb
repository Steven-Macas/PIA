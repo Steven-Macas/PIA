{
  "nbformat": 4,
  "nbformat_minor": 0,
  "metadata": {
    "colab": {
      "provenance": [],
      "collapsed_sections": [],
      "authorship_tag": "ABX9TyPLDvYS6cPGE1eaYwk6eqAM",
      "include_colab_link": true
    },
    "kernelspec": {
      "name": "python3",
      "display_name": "Python 3"
    },
    "language_info": {
      "name": "python"
    }
  },
  "cells": [
    {
      "cell_type": "markdown",
      "metadata": {
        "id": "view-in-github",
        "colab_type": "text"
      },
      "source": [
        "<a href=\"https://colab.research.google.com/github/Steven-Macas/PIA/blob/Resum/Resumen_Python.ipynb\" target=\"_parent\"><img src=\"https://colab.research.google.com/assets/colab-badge.svg\" alt=\"Open In Colab\"/></a>"
      ]
    },
    {
      "cell_type": "markdown",
      "source": [
        "> ***Python***\n",
        "\n",
        "---\n",
        "**Introducción**\n",
        "\n",
        "1.   Developed in 1990 - General purpose programing languages in modern times.\n",
        "2.   High-level, interpreted languages\n",
        "\n",
        "**Applications**\n",
        "\n",
        "*   Web Applications\n",
        "*   Data Sciences\n",
        "*   Artificil Intelligence\n",
        "*   Image Processing\n",
        "*   Operating Systems\n"
      ],
      "metadata": {
        "id": "yvd8HJ9c83g4"
      }
    },
    {
      "cell_type": "code",
      "source": [
        "#Primer \"Hola Mundo\"\n",
        "print(\"Hello World\")\n",
        "#With Variables\n",
        "a=\"Hello\"\n",
        "b=\"World\"\n",
        "print(a+\" \"+b)"
      ],
      "metadata": {
        "id": "lpSwpdYY-nA9",
        "colab": {
          "base_uri": "https://localhost:8080/"
        },
        "outputId": "98113ddc-1297-4d74-9058-bf3b944eab1a"
      },
      "execution_count": null,
      "outputs": [
        {
          "output_type": "stream",
          "name": "stdout",
          "text": [
            "Hello World\n",
            "Hello World\n"
          ]
        }
      ]
    },
    {
      "cell_type": "markdown",
      "source": [
        "**Python's Data Types**"
      ],
      "metadata": {
        "id": "nLARTcVx_Dch"
      }
    },
    {
      "cell_type": "code",
      "source": [
        "#Numbers\n",
        "number=50\n",
        "cad=\"Hello\"\n",
        "bol=True\n"
      ],
      "metadata": {
        "id": "lMsnM3tj_NQ1"
      },
      "execution_count": null,
      "outputs": []
    },
    {
      "cell_type": "markdown",
      "source": [
        "**Naming Convention**\n",
        "\n",
        "---\n",
        "\n",
        "\n",
        "\n",
        "\n",
        "*   The name can start with an upper or lower case alphabet.\n",
        "\n",
        "*--> For example, you can define your income variable as Income or income, both are valid.*\n",
        "\n",
        "*   All the names are case sensitive.\n",
        "\n",
        "-->For example, Income and income are two different variables and not one.\n",
        "*texto en cursiva*\n",
        "\n",
        "*   A number can appear in the name, but not at the beginning.\n",
        "\n",
        "-->For example, 12income is not a valid name but income12 or in12come are valid.\n",
        "*texto en cursiva*\n",
        "*   The _ character can appear anywhere in the name.\n",
        "\n",
        "-->For example, _income or income_ are valid names.\n",
        "*texto en cursiva*\n",
        "*   Spaces are not allowed. Instead, we must use snake_case to make variable names readable.\n",
        "\n",
        "*-->For example, monthly_income is a valid name.*\n",
        "\n",
        "*   The name of the variable should be something meaningful that describes the value it holds, instead of being random characters.\n",
        "\n",
        "*-->For example, inc or even income would not give any useful information but names like weekly_income, monthly_income, or annual_income explain the purpose of our defined variable*\n"
      ],
      "metadata": {
        "id": "pzf7HkYl_1Dt"
      }
    },
    {
      "cell_type": "markdown",
      "source": [
        "**Numbers**\n",
        "\n",
        "---\n",
        "\n",
        "The integer data type is comprised of all the positive and negative whole numbers."
      ],
      "metadata": {
        "id": "eP_GdtMYBic7"
      }
    },
    {
      "cell_type": "code",
      "source": [
        "#Integer Numbers\n",
        "integ1=-90\n",
        "integ2=39\n",
        "print(str(integ1)+ \" and \" +str(integ2)+ \" are integers\")"
      ],
      "metadata": {
        "colab": {
          "base_uri": "https://localhost:8080/"
        },
        "id": "T99M7LbVB1cy",
        "outputId": "9eff643f-8027-4554-e6d5-61a766464e2c"
      },
      "execution_count": null,
      "outputs": [
        {
          "output_type": "stream",
          "name": "stdout",
          "text": [
            "-90 and 39 are integers\n"
          ]
        }
      ]
    },
    {
      "cell_type": "markdown",
      "source": [
        "Floating Point Numbers or floats refer to positive and negative decimal numbers"
      ],
      "metadata": {
        "id": "JXPLOajPCIEK"
      }
    },
    {
      "cell_type": "code",
      "source": [
        "#Floats Numbers\n",
        "flt1=84.290\n",
        "flt2=-26.94\n",
        "print(str(flt1)+ \" and \" +str(flt2)+ \" are floats\")"
      ],
      "metadata": {
        "id": "ndiH-zzECSXG",
        "colab": {
          "base_uri": "https://localhost:8080/"
        },
        "outputId": "c43fd7f1-912f-4c85-9205-0c30ad5a0770"
      },
      "execution_count": 48,
      "outputs": [
        {
          "output_type": "stream",
          "name": "stdout",
          "text": [
            "84.29 and -26.94 are floats\n"
          ]
        }
      ]
    },
    {
      "cell_type": "markdown",
      "source": [
        "Complex Numbers are numbers made up of a real and an imaginary part.\n",
        "\n",
        "Just like the **print()** statement is used to print values, **complex()** is used to create complex numbers."
      ],
      "metadata": {
        "id": "gsr4dILxDZCN"
      }
    },
    {
      "cell_type": "code",
      "source": [
        "#Complex Numbers\n",
        "complx1=complex(10,32)\n",
        "#10+32j\n",
        "complx2=complex(-18, -39)\n",
        "#-18-39j\n",
        "print(complx1)\n",
        "print(complx2)"
      ],
      "metadata": {
        "colab": {
          "base_uri": "https://localhost:8080/"
        },
        "id": "EtdyYAWcDzZu",
        "outputId": "ba4498e5-c5e7-4e89-d3b8-fb211f7b9c58"
      },
      "execution_count": null,
      "outputs": [
        {
          "output_type": "stream",
          "name": "stdout",
          "text": [
            "(10+32j)\n",
            "(-18-39j)\n"
          ]
        }
      ]
    },
    {
      "cell_type": "markdown",
      "source": [
        "**Booleans**\n",
        "\n",
        "---\n",
        "\n",
        "*The Boolean (also known as bool) data type allows us to choose between two values: true and false.*"
      ],
      "metadata": {
        "id": "0Vf6phPRE5ec"
      }
    },
    {
      "cell_type": "code",
      "source": [
        "#Booleans\n",
        "valorX=False\n",
        "if valorX is True:\n",
        "  print(\"Hace sol\")\n",
        "else:\n",
        "  print(\"Está lloviendo\")"
      ],
      "metadata": {
        "colab": {
          "base_uri": "https://localhost:8080/"
        },
        "id": "UpbVAB4zFKGz",
        "outputId": "58405edd-fbc4-45be-ddf0-3ef42f026b96"
      },
      "execution_count": null,
      "outputs": [
        {
          "output_type": "stream",
          "name": "stdout",
          "text": [
            "Hace sol\n"
          ]
        }
      ]
    },
    {
      "cell_type": "markdown",
      "source": [
        "**Strings**\n",
        "\n",
        "---\n",
        "\n",
        "*A string is a collection of characters closed within single, double or triple quotation marks.*"
      ],
      "metadata": {
        "id": "ZgQSwISxFnGH"
      }
    },
    {
      "cell_type": "code",
      "source": [
        "'''Strings\n",
        "Triple, Double, Single'''\n",
        "movie=\"Harry Potter\"\n",
        "opinion='está sobrevalorada'\n",
        "empty=' '\n",
        "print(movie + empty + opinion)"
      ],
      "metadata": {
        "id": "et78biCIFwEr"
      },
      "execution_count": null,
      "outputs": []
    },
    {
      "cell_type": "markdown",
      "source": [
        "*The length of a string can be found using the len() built-in function. This length indicates the number of characters in the string:*"
      ],
      "metadata": {
        "id": "z7BtkW4jGmpq"
      }
    },
    {
      "cell_type": "code",
      "source": [
        "#Length\n",
        "texty=\"Iron Man is better Batman\" #25 characters\n",
        "print(len(texty))"
      ],
      "metadata": {
        "id": "KLKmLk3mGurG"
      },
      "execution_count": null,
      "outputs": []
    },
    {
      "cell_type": "markdown",
      "source": [
        "*A string in Python is indexed from 0 to n-1 where n is its length. This means that the index of the first character in a string is 0.*\n",
        "\n",
        "\n",
        "> 0 1 2 3 4\n",
        "\n",
        "> H E L L O\n",
        "\n"
      ],
      "metadata": {
        "id": "i9CWWn7xHIVA"
      }
    },
    {
      "cell_type": "markdown",
      "source": [
        "*Each character in a string can be accessed using its index. The index must be closed within square brackets, [], and appended to the string.*"
      ],
      "metadata": {
        "id": "xLSufXKhHu0h"
      }
    },
    {
      "cell_type": "code",
      "source": [
        "#Indexing\n",
        "batman=\"Bruce Wayne\"\n",
        "first=batman[0]\n",
        "print(first) #show the character B\n",
        "last = batman[len(batman) - 1]\n",
        "print(last) #show the last character e"
      ],
      "metadata": {
        "id": "w96crRRYH1wr"
      },
      "execution_count": null,
      "outputs": []
    },
    {
      "cell_type": "markdown",
      "source": [
        "*Reverse Indexing - Negative indices start from the opposite end of the string. Hence, the -1 index corresponds to the last character:*"
      ],
      "metadata": {
        "id": "vvkzfaMCI08V"
      }
    },
    {
      "cell_type": "code",
      "source": [
        "#Reverse Indexing\n",
        "text=\"Iron Man is better Batman\" #25 characters\n",
        "print(text)\n",
        "print(\"The position -1 is \" + text[-1])\n",
        "print(\"The position -6 is \" + text[-6])\n",
        "print(\"The position -19 is \" + text[-19])"
      ],
      "metadata": {
        "id": "xkTe9uDnJGC0",
        "colab": {
          "base_uri": "https://localhost:8080/"
        },
        "outputId": "0e397d49-de19-4613-abcd-bd9562f4ddc4"
      },
      "execution_count": null,
      "outputs": [
        {
          "output_type": "stream",
          "name": "stdout",
          "text": [
            "Iron Man is better Batman\n",
            "The position -1 is n\n",
            "The position -6 is B\n",
            "The position -19 is a\n"
          ]
        }
      ]
    },
    {
      "cell_type": "markdown",
      "source": [
        "* **String Inmutability** - Once we assign a value to a string, we can’t update it later. How about verifying it with an executable below?*"
      ],
      "metadata": {
        "id": "7hQmayarTj9M"
      }
    },
    {
      "cell_type": "code",
      "source": [
        "texto=\"Hello\"\n",
        "texto[0]=\"P\" # Will give error"
      ],
      "metadata": {
        "id": "lYRRumfhTvDY"
      },
      "execution_count": null,
      "outputs": []
    },
    {
      "cell_type": "markdown",
      "source": [
        "*Remember, assigning a new value to string variable doesn’t mean that you’ve changed the value. Let’s verify it with the id() method below.*"
      ],
      "metadata": {
        "id": "d4UKjiLLUaa6"
      }
    },
    {
      "cell_type": "code",
      "source": [
        "#id() method below\n",
        "text=\"hello\"\n",
        "print(text)\n",
        "print(id(text))\n",
        "text=\"World\"\n",
        "print(text)\n",
        "print(id(text))"
      ],
      "metadata": {
        "id": "kF5i5BqyUzL1"
      },
      "execution_count": null,
      "outputs": []
    },
    {
      "cell_type": "markdown",
      "source": [
        "**NoneType**\n",
        "\n",
        "---\n",
        "\n",
        "*Python offers another data type called NoneType. It only has a single value, None. We can assign None to any variable, but we can not create other NoneType variables.*\n",
        "\n",
        "\n",
        "\n",
        "*   None is not a default value for the variable that has not yet been assigned a value.\n",
        "*   None is not the same as False.\n",
        "*   None is not an empty string.\n",
        "*   None is not 0\n",
        "\n"
      ],
      "metadata": {
        "id": "cvVGHdDIViIQ"
      }
    },
    {
      "cell_type": "code",
      "source": [
        "valorY= None\n",
        "print(valorY)\n",
        "print(type(valorY))"
      ],
      "metadata": {
        "id": "15jpXJXAVr30",
        "colab": {
          "base_uri": "https://localhost:8080/"
        },
        "outputId": "a50acebc-d292-40f3-9be6-ffe63579eb01"
      },
      "execution_count": null,
      "outputs": [
        {
          "output_type": "stream",
          "name": "stdout",
          "text": [
            "None\n",
            "<class 'NoneType'>\n"
          ]
        }
      ]
    },
    {
      "cell_type": "markdown",
      "source": [
        "**String Slicing**\n",
        "\n",
        "---\n",
        "\n",
        "*Slicing is the process of obtaining a portion (substring) of a string by using its indices.*"
      ],
      "metadata": {
        "id": "5tmIMjN0XquZ"
      }
    },
    {
      "cell_type": "code",
      "source": [
        "#string[start:end]\n",
        "valorA=\"Hello World\"\n",
        "print(valorA[2:5])\n",
        "print(valorA[3:len(valorA)])"
      ],
      "metadata": {
        "id": "AarNalNSYASJ",
        "colab": {
          "base_uri": "https://localhost:8080/"
        },
        "outputId": "5ef54ed6-4b6e-47e4-f3eb-9068113ef922"
      },
      "execution_count": null,
      "outputs": [
        {
          "output_type": "stream",
          "name": "stdout",
          "text": [
            "llo\n",
            "lo World\n"
          ]
        }
      ]
    },
    {
      "cell_type": "markdown",
      "source": [
        "*Slicing with a Step - we can skip characters in the string. The default step is 1, so we iterate through the string one character at a time.*"
      ],
      "metadata": {
        "id": "fhO0RX5yaOzl"
      }
    },
    {
      "cell_type": "code",
      "source": [
        "#stng[start:end:step]\n",
        "texts=\"Python 3 also allows us to slice a string\"\n",
        "print(texts[1:8])\n",
        "print(texts[1:16:2])\n",
        "print(texts[1:7:5])"
      ],
      "metadata": {
        "id": "ibzUa3tLaYDb",
        "colab": {
          "base_uri": "https://localhost:8080/"
        },
        "outputId": "8228ceae-21b8-4425-ea90-10954cddf8de"
      },
      "execution_count": null,
      "outputs": [
        {
          "output_type": "stream",
          "name": "stdout",
          "text": [
            "ython 3\n",
            "yhn3as l\n",
            "y \n"
          ]
        }
      ]
    },
    {
      "cell_type": "markdown",
      "source": [
        "*Reverse Slicing - Strings can also be sliced to return a reversed substring. In this case, we would need to switch the order of the start and end indices.*"
      ],
      "metadata": {
        "id": "Evll2IKNkgz-"
      }
    },
    {
      "cell_type": "code",
      "source": [
        "#Reverse slicing\n",
        "texts2=\"Python 3 also allows us to slice a string\"\n",
        "print(texts2[12:-1:2])\n",
        "print(texts2[17:-1:-5]) #WARNING"
      ],
      "metadata": {
        "id": "2WcHRnvWksXr",
        "colab": {
          "base_uri": "https://localhost:8080/"
        },
        "outputId": "557084e7-9f9a-4d3e-ed1d-ecb1c1d398b2"
      },
      "execution_count": null,
      "outputs": [
        {
          "output_type": "stream",
          "name": "stdout",
          "text": [
            "oalw st lc  ti\n",
            "\n"
          ]
        }
      ]
    },
    {
      "cell_type": "markdown",
      "source": [
        "**String Formatting**\n",
        "\n",
        "---\n",
        "\n",
        "String formatting substituting values into a string. Cases of string formatting:\n",
        "\n",
        "\n",
        "\n",
        "*   Inserting strings within a string\n",
        "*   Inserting integers within a string\n",
        "*   Inserting floats within a string"
      ],
      "metadata": {
        "id": "kI4iABKsoFSm"
      }
    },
    {
      "cell_type": "code",
      "source": [
        "#Inserting strings within a string\n",
        "stringA=\"I like %s\" % \"PHP\" #Only %s\n",
        "print(stringA)\n",
        "\n",
        "temp =\"Python\"\n",
        "stringB=\"I like %s\" % temp\n",
        "print(stringB)\n",
        "stringC=\"I like %s and %s\" % (\"PHP\", temp)\n",
        "print(stringC)"
      ],
      "metadata": {
        "id": "jaCwv1DTe92h"
      },
      "execution_count": null,
      "outputs": []
    },
    {
      "cell_type": "markdown",
      "source": [
        "The %s is the format specifier, which tells Python to insert the text here. Python will insert a string if:\n",
        "\n",
        "*   We follow the string with a % and another string.\n",
        "\n",
        "*   We follow the string with a % and another string type variable.\n",
        "\n",
        "The %i is the format specifier, which tells Python to insert the integers here."
      ],
      "metadata": {
        "id": "XEA9jLnEjVxb"
      }
    },
    {
      "cell_type": "code",
      "source": [
        "#Inserting Integers within a string\n",
        "my_string=\"%i + %i = %i\" % (5,5,10)\n",
        "print(my_string)"
      ],
      "metadata": {
        "colab": {
          "base_uri": "https://localhost:8080/"
        },
        "id": "YUDZxS-lkj_z",
        "outputId": "35d811da-42df-4960-e4c7-7aae272ea817"
      },
      "execution_count": null,
      "outputs": [
        {
          "output_type": "stream",
          "name": "stdout",
          "text": [
            "5 + 5 = 10\n"
          ]
        }
      ]
    },
    {
      "cell_type": "markdown",
      "source": [
        "*%f is used to substitute floats within a string. Note, string1 includes extra zeroes. How about limiting 1.11\n",
        "1.11 to two decimal places? We can use %.2f*"
      ],
      "metadata": {
        "id": "MzLBB4Hok-kH"
      }
    },
    {
      "cell_type": "code",
      "source": [
        "string1 = \"%f\" % (1.11)\n",
        "print(string1) # '1.110000'\n",
        "\n",
        "string2 = \"%.2f\" % (1.1)\n",
        "print(string2) # '1.11'\n",
        "\n",
        "string3 = \"%.2f\" % (1.117)\n",
        "print(string3) # '1.12'"
      ],
      "metadata": {
        "id": "cGG4be4Alp5d"
      },
      "execution_count": null,
      "outputs": []
    },
    {
      "cell_type": "markdown",
      "source": [
        "**Operators**\n",
        "\n",
        "---\n",
        "\n",
        "are used to perform arithmetic and logical operations on data. They enable us to manipulate and interpret data to produce useful outputs. Python’s operators follow the in-fix or prefix notations.\n",
        "\n",
        "\n",
        "*   In-fix operators appear between two operands (values on which the operator acts) and hence, are usually known as binary operators:\n",
        "\n",
        "![Captura de pantalla 2022-10-07 105926.jpg](data:image/jpeg;base64,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)\n",
        "\n",
        "*   A prefix operator usually works on one operand and appears before it. Hence, prefix operators are known as unary operators\n",
        "\n",
        "![image.png](data:image/png;base64,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)\n"
      ],
      "metadata": {
        "id": "qwhy-Im0ocFu"
      }
    },
    {
      "cell_type": "code",
      "source": [
        "#Comparisons\n",
        "num1 = 5\n",
        "num2 = 10\n",
        "num3 = 10\n",
        "list1 = [6,7,8]\n",
        "list2 = [6,7,8]\n",
        "\n",
        "print(num2 > num1)  # 10 is greater than 5\n",
        "print(num1 > num2)  # 5 is not greater than 10\n",
        "\n",
        "print(num2 == num3)  # Both have the same value\n",
        "print(num3 != num1)  # Both have different values\n",
        "\n",
        "print(3 + 10 == 5 + 5)  # Both are not equal\n",
        "print(3 <= 2)  # 3 is not less than or equal to 2\n",
        "\n",
        "print(num2 is not num3)  # Both have the same object\n",
        "print(list1 is list2)  # Both have the different objects"
      ],
      "metadata": {
        "id": "m5SH500lr6U-"
      },
      "execution_count": null,
      "outputs": []
    },
    {
      "cell_type": "code",
      "source": [
        "#The Other Operators\n",
        "num = 10\n",
        "print(num)\n",
        "\n",
        "num += 5\n",
        "print(num)\n",
        "\n",
        "num -= 5\n",
        "print(num)\n",
        "\n",
        "num *= 2\n",
        "print(num)\n",
        "\n",
        "num /= 2\n",
        "print(num)\n",
        "\n",
        "num **= 2\n",
        "print(num)"
      ],
      "metadata": {
        "id": "MbBzT8QGvlPj"
      },
      "execution_count": null,
      "outputs": []
    },
    {
      "cell_type": "markdown",
      "source": [
        "**Bitwise Operators**\n",
        "\n",
        "---\n",
        "\n",
        "*In programming, all data is actually made up of 0s and 1s known as bits. Bitwise operators allow us to perform bit-related operations on values.*"
      ],
      "metadata": {
        "id": "1WIgV4YfBbM5"
      }
    },
    {
      "cell_type": "code",
      "source": [
        "num1 = 10  # Binary value = 01010\n",
        "num2 = 20  # Binary Value = 10100\n",
        "\n",
        "print(num1 & num2)   # 0   -> Binary value = 00000\n",
        "print(num1 | num2)   # 30  -> Binary value = 11110\n",
        "print(num1 ^ num2)   # 30  -> Binary value = 11110\n",
        "print(~num1)         # -11 -> Binary value = -(1011)\n",
        "print(num1 << 3)     # 80  -> Binary value = 0101 0000\n",
        "print(num2 >> 3)     # 2   -> Binary value = 0010"
      ],
      "metadata": {
        "id": "5M4OHkUMBg60"
      },
      "execution_count": null,
      "outputs": []
    },
    {
      "cell_type": "markdown",
      "source": [
        "**Operaciones con cadenas**\n",
        "\n",
        "\n",
        "---\n",
        "*Strings are compatible with the comparison operators. Each character has a Unicode value.*\n",
        "\n",
        "\n",
        "*This allows strings to be compared on the basis of their Unicode values.*"
      ],
      "metadata": {
        "id": "Res83MW2CfC7"
      }
    },
    {
      "cell_type": "code",
      "source": [
        "#Comparison Operators\n",
        "print('a' < 'b')  # 'a' has a smaller Unicode value\n",
        "\n",
        "house = \"Gryffindor\"\n",
        "house_copy = \"Gryffindor\"\n",
        "\n",
        "print(house == house_copy)\n",
        "\n",
        "new_house = \"Slytherin\"\n",
        "\n",
        "print(house == new_house)\n",
        "\n",
        "print(new_house <= house)\n",
        "\n",
        "print(new_house >= house)"
      ],
      "metadata": {
        "id": "Dydoy7mlEZaK"
      },
      "execution_count": null,
      "outputs": []
    },
    {
      "cell_type": "markdown",
      "source": [
        "# Search\n",
        "*Search - The in keyword can be used to check if a particular substring exists in another string. If the substring is found, the operation returns true*"
      ],
      "metadata": {
        "id": "XvgwoWTcGJyg"
      }
    },
    {
      "cell_type": "code",
      "source": [
        "random_string = \"This is a random string\"\n",
        "\n",
        "print('of' in random_string)  # Check whether 'of' exists in randomString\n",
        "print('random' in random_string)  # 'random' exists!"
      ],
      "metadata": {
        "colab": {
          "base_uri": "https://localhost:8080/"
        },
        "id": "jQ16piXLGTNx",
        "outputId": "59494592-b55c-4f74-bf90-949e920e3b5e"
      },
      "execution_count": null,
      "outputs": [
        {
          "output_type": "stream",
          "name": "stdout",
          "text": [
            "False\n",
            "True\n"
          ]
        }
      ]
    },
    {
      "cell_type": "markdown",
      "source": [
        "# ***Making a List***\n",
        "\n",
        "---\n",
        "\n"
      ],
      "metadata": {
        "id": "37ycgbojGojq"
      }
    },
    {
      "cell_type": "code",
      "source": [
        "my_list = [1, 2.5, \"A string\", True]\n",
        "print(my_list[2][2])\n",
        "print(len(my_list))"
      ],
      "metadata": {
        "id": "lWOypYS8GsRc"
      },
      "execution_count": null,
      "outputs": []
    },
    {
      "cell_type": "markdown",
      "source": [
        "**Ejercicio: Fuerza Gravitacional**\n",
        "\n",
        "---\n",
        "\n",
        "G = 6,67 * 10^-11\n",
        "\n",
        "M Tierra = 6.0 * 10^24\n",
        "\n",
        "m Luna = 7.34 * 10^22\n",
        "\n",
        "r = 3,84 * 10^8\n",
        "\n",
        "FG=1.99 * 10^20"
      ],
      "metadata": {
        "id": "DlAnqRqoI746"
      }
    },
    {
      "cell_type": "code",
      "source": [
        "#Fuerva Gravitacional\n",
        "G=6.67*(10**-11)\n",
        "M=6.0*(10**24)\n",
        "m=7.34*(10**22)\n",
        "r=3.84*(10**8)\n",
        "\"\"\"\n",
        "GMm\n",
        "---\n",
        "r^2\n",
        "\n",
        "G = 6.67 * (10 ** -11)\n",
        "M = 6.0 * (10 ** 24)  # Mass of Earth\n",
        "m = 7.34 * (10 ** 22)  # Mass of the moon\n",
        "r = 3.84 * (10 ** 8)\n",
        "\n",
        "grav_force = (G * M * m) / (r ** 2)\n",
        "\"\"\"\n",
        "result=(G*M*m)/(r**2)\n",
        "print(result)"
      ],
      "metadata": {
        "colab": {
          "base_uri": "https://localhost:8080/"
        },
        "id": "IdEo6KFjJxrl",
        "outputId": "1f86915a-b895-4f3c-ef55-93317b65b978"
      },
      "execution_count": null,
      "outputs": [
        {
          "output_type": "stream",
          "name": "stdout",
          "text": [
            "1.9920979817708333e+20\n"
          ]
        }
      ]
    },
    {
      "cell_type": "markdown",
      "source": [
        "**What are Conditional Statements?**\n",
        "\n",
        "---\n",
        "\n",
        "*A conditional statement is a Boolean expression that, if True, executes a piece of code*"
      ],
      "metadata": {
        "id": "o1wkLtqVM0XB"
      }
    },
    {
      "cell_type": "code",
      "source": [
        "if condtional statement is True:\n",
        "    # execute expression1\n",
        "    pass\n",
        "else:\n",
        "    # execute expression2\n",
        "    pass"
      ],
      "metadata": {
        "id": "vxEhX7e6NKNI"
      },
      "execution_count": null,
      "outputs": []
    },
    {
      "cell_type": "code",
      "source": [
        "# 'price' has already been created\n",
        "price=250\n",
        "\"\"\"If the price is 300 or above, there will be a 30% discount.\n",
        "\n",
        "If the price is between 200 and 300 (200 inclusive), there will be a 20% discount.\n",
        "\n",
        "If the price is between 100 and 200 (100 inclusive), there will be a 10% discount.\n",
        "\n",
        "If the price is less than 100, there will be a 5% discount.\n",
        "\n",
        "If the price is negative, there will be no discount.\"\"\"\n",
        "# Write your code here\n",
        "if price>=300:\n",
        "    price=price-((price*30)/100)\n",
        "elif price>=200 and price<300:\n",
        "    price=price-((price*20)/100)\n",
        "elif price>=100 and price<200:\n",
        "    price=price-((price*10)/100)\n",
        "elif price<100:\n",
        "    price=price-((price*5)/100)\n",
        "else:\n",
        "    print(\"There will be no discount\")\n",
        "\n",
        "print(price)"
      ],
      "metadata": {
        "colab": {
          "base_uri": "https://localhost:8080/"
        },
        "id": "kfWh923HQzAX",
        "outputId": "e89c0ec6-c7d6-43d0-8919-aa255a983d70"
      },
      "execution_count": null,
      "outputs": [
        {
          "output_type": "stream",
          "name": "stdout",
          "text": [
            "200.0\n"
          ]
        }
      ]
    },
    {
      "cell_type": "markdown",
      "source": [
        "# **Functions**\n",
        "\n",
        "---\n",
        "\n",
        "*A function is a reusable set of operations.*\n",
        "\n",
        "![image.png](data:image/png;base64,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)"
      ],
      "metadata": {
        "id": "XDzORIJsRAwQ"
      }
    },
    {
      "cell_type": "code",
      "source": [
        "#Function\n",
        "mini=min(30,28.23,28.22,-90)\n",
        "print(mini)\n",
        "\n",
        "mini2=min(\"Hillo\", \"Hallo\")\n",
        "print(mini2)"
      ],
      "metadata": {
        "id": "68i2n0VQTQMu"
      },
      "execution_count": null,
      "outputs": []
    },
    {
      "cell_type": "markdown",
      "source": [
        "**Function Creation**\n",
        "\n",
        "---\n",
        "\n",
        "a function can be defined using the def keyword in the following format: **def function name (parameters)**\n"
      ],
      "metadata": {
        "id": "vQfly5abUEYf"
      }
    },
    {
      "cell_type": "code",
      "source": [
        "#Functions\n",
        "def despedida_func():\n",
        "  print(\"Espero que\")\n",
        "  print(\"volvamos a vernos\")\n",
        "  print(\"Hasta luego\")\n",
        "\n",
        "def bienvenida_func():\n",
        "  print(\"Bienvenid@\")\n",
        "  print(\"Espero que hayas tenido un buen dia\")\n",
        "\n",
        "bienvenida_func()\n",
        "despedida_func()"
      ],
      "metadata": {
        "colab": {
          "base_uri": "https://localhost:8080/"
        },
        "id": "qunbelMTUw8A",
        "outputId": "8fa08c85-7088-4ecf-e4a2-71b718af85ef"
      },
      "execution_count": null,
      "outputs": [
        {
          "output_type": "stream",
          "name": "stdout",
          "text": [
            "Bienvenid@\n",
            "Espero que hayas tenido un buen dia\n",
            "Espero que\n",
            "volvamos a vernos\n",
            "Hasta luego\n"
          ]
        }
      ]
    },
    {
      "cell_type": "markdown",
      "source": [
        "**Parameters**\n",
        "\n",
        "---"
      ],
      "metadata": {
        "id": "YGmhEwfwVbOG"
      }
    },
    {
      "cell_type": "code",
      "source": [
        "#Parameters\n",
        "def minimo(a,b):\n",
        "  if a > b:\n",
        "    print(str(a) + \" es mayor que \" + str(b))\n",
        "  elif a==b:\n",
        "    print(str(a) + \" es igual a \" + str(b))\n",
        "  else:\n",
        "    print(str(b) + \" es mayor que \" + str(a))\n",
        "\n",
        "numA=30.8\n",
        "numB=30.7\n",
        "minimo(numA,numB)"
      ],
      "metadata": {
        "id": "1GpqxIM9Vfet",
        "colab": {
          "base_uri": "https://localhost:8080/"
        },
        "outputId": "614b864d-261d-4499-a5e6-3313f0fd48be"
      },
      "execution_count": null,
      "outputs": [
        {
          "output_type": "stream",
          "name": "stdout",
          "text": [
            "30.8 es mayor que 30.7\n"
          ]
        }
      ]
    },
    {
      "cell_type": "code",
      "source": [
        "#The return Statement\n",
        "def valor_retn(a,b):\n",
        "  if a > b:\n",
        "    return a\n",
        "  return b\n",
        "\n",
        "num1=120\n",
        "num2=90\n",
        "result=valor_retn(num1,num2)\n",
        "print(result)"
      ],
      "metadata": {
        "colab": {
          "base_uri": "https://localhost:8080/"
        },
        "id": "YcKNMwp_vRPI",
        "outputId": "d4e05b4b-6781-4884-c1de-39928b3bc97b"
      },
      "execution_count": null,
      "outputs": [
        {
          "output_type": "stream",
          "name": "stdout",
          "text": [
            "120\n"
          ]
        }
      ]
    },
    {
      "cell_type": "markdown",
      "source": [
        "# ***Altering Data***\n",
        "\n",
        "---\n",
        "\n",
        "*When mutable data is passed to a function, the function can modify or alter it. These modifications will stay in effect outside the function scope as well. An example of mutable data is a list.*\n",
        "\n",
        "*In the case of immutable data, the function can modify it, but the data will remain unchanged outside the function’s scope. Examples of immutable data are numbers, strings, etc.*"
      ],
      "metadata": {
        "id": "bi2nOIE24a_t"
      }
    },
    {
      "cell_type": "code",
      "source": [
        "n = 20\n",
        "print(n)\n",
        "\n",
        "def suma(num):\n",
        "  num+=50\n",
        "  n=num\n",
        "  print(\"Dentro de la función n vale \" + str(n))\n",
        "\n",
        "suma(n)\n",
        "print(\"Fuera de la funcion n vale \"+ str(n))"
      ],
      "metadata": {
        "id": "tMYAT-q19avF"
      },
      "execution_count": null,
      "outputs": []
    },
    {
      "cell_type": "code",
      "source": [
        "list_array=[1,2,3,4,5]\n",
        "print(list_array)\n",
        "def multiplicarArray(n):\n",
        "  n[0]*=2\n",
        "  n[1]*=2\n",
        "  n[2]*=2\n",
        "  n[3]*=2\n",
        "  n[4]*=2\n",
        "  print(n)\n",
        "\n",
        "multiplicarArray(list_array)\n",
        "arry=[10,20,30,40,50]\n",
        "multiplicarArray(arry)"
      ],
      "metadata": {
        "id": "9XR17vWKtOWi"
      },
      "execution_count": null,
      "outputs": []
    },
    {
      "cell_type": "markdown",
      "source": [
        "# **Search**\n",
        "\n",
        "*using the in keyword is the find() method. -1 is a conventional value that represents a None or failure in case the output was supposed to be positive.*\n",
        "\n",
        "\n",
        "*   substring is what we are searching for.\n",
        "*   start is the index from which we start searching in a_string.\n",
        "*   end is the index where we stop our search in a_string."
      ],
      "metadata": {
        "id": "Ie10a2j7xe2K"
      }
    },
    {
      "cell_type": "code",
      "source": [
        "#Search -->  a_string.find(substring, start, end)\n",
        "cadn=\"This is my code\"\n",
        "print(cadn.find(\"my\"))\n",
        "print(cadn.find(\"cod\", 10, 14))\n",
        "print(cadn.find(\"hello\"))"
      ],
      "metadata": {
        "id": "9ERcXp3hx5Zp"
      },
      "execution_count": null,
      "outputs": []
    },
    {
      "cell_type": "markdown",
      "source": [
        "# **Replace / Changing / Joining / Formatting**"
      ],
      "metadata": {
        "id": "2w4aOFQeytGK"
      }
    },
    {
      "cell_type": "code",
      "source": [
        "#Replace\n",
        "cadnB=\"Hello world, this is my code\"\n",
        "print(cadnB)\n",
        "print(cadnB.replace(\"Hello world\", \"Hello everybody\"))\n",
        "print(cadnB.replace(\"Helo world\", \"Hola\"))\n",
        "#Si no está bien escrito, no afectará en nada"
      ],
      "metadata": {
        "id": "V2T62uSpyvEp"
      },
      "execution_count": null,
      "outputs": []
    },
    {
      "cell_type": "code",
      "source": [
        "#Changing - lower() - upper()\n",
        "cadnC=\"HeLLo WorlD, tHis Is mY cOde\"\n",
        "print(cadnC.upper())\n",
        "print(cadnC.lower())"
      ],
      "metadata": {
        "colab": {
          "base_uri": "https://localhost:8080/"
        },
        "id": "IyPtu6ri1RXK",
        "outputId": "c471e264-e788-4efd-d957-609b607352bb"
      },
      "execution_count": null,
      "outputs": [
        {
          "output_type": "stream",
          "name": "stdout",
          "text": [
            "HELLO WORLD, THIS IS MY CODE\n",
            "hello world, this is my code\n"
          ]
        }
      ]
    },
    {
      "cell_type": "code",
      "source": [
        "#Joining - join\n",
        "lists=[\"a\",\"b\",\"c\",\"d\"]\n",
        "print('>>'.join(lists))\n",
        "print(lists)"
      ],
      "metadata": {
        "colab": {
          "base_uri": "https://localhost:8080/"
        },
        "id": "kCcoGjMZ1uXJ",
        "outputId": "fe088d2a-9f1a-40e5-a727-0281f6931c0b"
      },
      "execution_count": null,
      "outputs": [
        {
          "output_type": "stream",
          "name": "stdout",
          "text": [
            "a>>b>>c>>d\n",
            "['a', 'b', 'c', 'd']\n"
          ]
        }
      ]
    },
    {
      "cell_type": "code",
      "source": [
        "#Format\n",
        "cadena=\"Im learning {language} at {where}\".format(language=\"Python\", where=\"Educative\")\n",
        "print(cadena)\n",
        "cadena=\"Im learning {0} at {1}\".format(\"Python\", \"Educative\")\n",
        "print(cadena)\n",
        "cadena=\"Im learning {} at {}\".format(\"PHP\", \"WWW3School\")\n",
        "print(cadena)"
      ],
      "metadata": {
        "id": "jowmzWh63I6R"
      },
      "execution_count": null,
      "outputs": []
    },
    {
      "cell_type": "markdown",
      "source": [
        "# ***Type Conversions***"
      ],
      "metadata": {
        "id": "0wupPE2bEGv9"
      }
    },
    {
      "cell_type": "code",
      "source": [
        "#int()\n",
        "print(\"Integer\")\n",
        "print(int(\"12\") * 10)  # String to integer\n",
        "print(int(20.5))  # Float to integer\n",
        "print(int(False))  # Bool to integer\n",
        "\n",
        "# print (int(\"Hello\")) # This wouldn't work!\n",
        "\n",
        "\n",
        "#ord()\n",
        "print(\"ord -> Unicode value\")\n",
        "print(ord('a'))\n",
        "print(ord('0'))\n",
        "\n",
        "#float()\n",
        "print(float(24))\n",
        "print(float('24.5'))\n",
        "print(float(True))\n",
        "\n",
        "#str()\n",
        "print(str(12) + '.345')\n",
        "print(str(False))\n",
        "print(str(12.345) + ' is a string')\n",
        "\n",
        "#bool\n",
        "print(bool(10))\n",
        "print(bool(0.0))\n",
        "print(bool(\"Hello\"))\n",
        "print(bool(\"\"))"
      ],
      "metadata": {
        "id": "wYs5haxrEW9m"
      },
      "execution_count": null,
      "outputs": []
    },
    {
      "cell_type": "markdown",
      "source": [
        "# ***Input From The User***\n",
        "\n",
        "---"
      ],
      "metadata": {
        "id": "ZeyH7ADpJB71"
      }
    },
    {
      "cell_type": "code",
      "source": [
        "valor=input(\"What is your name?\")\n",
        "print(\"Hello \"+ valor)"
      ],
      "metadata": {
        "colab": {
          "base_uri": "https://localhost:8080/"
        },
        "id": "gcGQewCXJUcV",
        "outputId": "b4aa4be4-d5f3-44fc-df83-3f0370501ba3"
      },
      "execution_count": null,
      "outputs": [
        {
          "output_type": "stream",
          "name": "stdout",
          "text": [
            "What is your name?Steven\n",
            "Hello Steven\n"
          ]
        }
      ]
    },
    {
      "cell_type": "markdown",
      "source": [
        "# **Lambdas**\n",
        "\n",
        "---\n",
        "\n",
        "A lambda is an anonymous function that returns some form of data"
      ],
      "metadata": {
        "id": "crRur0lWSAZ7"
      }
    },
    {
      "cell_type": "code",
      "source": [
        "#Usamos una funcion para crear una variable el cual se le dará valor luego pero en el momento que le demos un valor se hará una operación o indicacion que le hayamos dicho anteriormente\n",
        "triple = lambda num : num * 3  # Assigning the lambda to a variable\n",
        "print(triple(1))  # Calling the lambda and giving it a parameter"
      ],
      "metadata": {
        "id": "zM__EeySSHOB"
      },
      "execution_count": null,
      "outputs": []
    },
    {
      "cell_type": "code",
      "source": [
        "#Ahora hacemos lo mismo pero con cadenas\n",
        "concat_strings = lambda a, b, c: a[0:2] + b[0:4] + c[0:2]\n",
        "\n",
        "print(\">>\".join(concat_strings(\"World\", \"Wide\", \"Web\")))"
      ],
      "metadata": {
        "id": "cqkZodSXg2vo"
      },
      "execution_count": null,
      "outputs": []
    },
    {
      "cell_type": "code",
      "source": [
        "#podemos poner condiciones en lambda, ponemos el valor y luego la condicion si se cumple\n",
        "my_func = lambda num: \"High\" if num > 50 else \"Low\"\n",
        "\n",
        "print(my_func(40))"
      ],
      "metadata": {
        "colab": {
          "base_uri": "https://localhost:8080/"
        },
        "id": "p5-yXns9hVUg",
        "outputId": "d2e09119-6a39-4fd5-ccbd-b9bbdba9e7eb"
      },
      "execution_count": null,
      "outputs": [
        {
          "output_type": "stream",
          "name": "stdout",
          "text": [
            "Low\n"
          ]
        }
      ]
    },
    {
      "cell_type": "markdown",
      "source": [
        "# ***Duda***"
      ],
      "metadata": {
        "id": "tJuyvBjADZXw"
      }
    },
    {
      "cell_type": "code",
      "source": [
        "#Duda\n",
        "def calculator(operation, n1, n2):\n",
        "    return operation(n1, n2)  # Using the 'operation' argument as a function\n",
        "\n",
        "\n",
        "# 10 and 20 are the arguments.\n",
        "result = calculator(lambda a1, a2: n1 * n2, 10, 20)\n",
        "# The lambda multiplies them.\n",
        "print(result)\n",
        "\n",
        "print(calculator(lambda n1, n2: n1 + n2, 10, 20))"
      ],
      "metadata": {
        "id": "L9QTDs4gDXME"
      },
      "execution_count": null,
      "outputs": []
    },
    {
      "cell_type": "code",
      "source": [
        "num_list = [0, 1, 2, 3, 4, 5]\n",
        "\n",
        "double_list = map(lambda n: n * 2, num_list)\n",
        "\n",
        "print(list(double_list))"
      ],
      "metadata": {
        "id": "RSdA9rAAEVbM"
      },
      "execution_count": null,
      "outputs": []
    },
    {
      "cell_type": "code",
      "source": [
        "numList = [30, 2, -15, 17, 9, 100]\n",
        "\n",
        "greater_than_10 = list(filter(lambda n: n > 10, numList))\n",
        "print(greater_than_10)"
      ],
      "metadata": {
        "id": "oHB0e12PGblr"
      },
      "execution_count": null,
      "outputs": []
    },
    {
      "cell_type": "markdown",
      "source": [
        "# ***Recursion***\n",
        "\n",
        "---\n",
        "\n",
        "*Recursion is the process in which a function calls itself during its execution. Each recursive call takes the program one scope deeper into the function.*"
      ],
      "metadata": {
        "id": "VG8qglL3HXjy"
      }
    },
    {
      "cell_type": "code",
      "source": [
        "def rec_count(number):\n",
        "    print(number)\n",
        "    # Base case\n",
        "    if number == 0:\n",
        "        return 0\n",
        "    rec_count(number - 1)  # A recursive call with a different argument\n",
        "    print(number)\n",
        "\n",
        "\n",
        "rec_count(5)"
      ],
      "metadata": {
        "id": "YbLU-1M4Hg1b"
      },
      "execution_count": null,
      "outputs": []
    },
    {
      "cell_type": "code",
      "source": [
        "#Fibonacci Sequence\n",
        "def fib(n):\n",
        "    # The base cases\n",
        "    if n <= 1:  # First number in the sequence\n",
        "        return 0\n",
        "    elif n == 2:  # Second number in the sequence\n",
        "        return 1\n",
        "    else:\n",
        "        # Recursive call\n",
        "        return fib(n - 1) + fib(n - 2)\n",
        "\n",
        "\n",
        "print(fib(6))"
      ],
      "metadata": {
        "id": "UwCzpJ5DXY4f",
        "outputId": "3db5f14c-b2db-4ca5-ad1d-bc8f0e64a756",
        "colab": {
          "base_uri": "https://localhost:8080/"
        }
      },
      "execution_count": null,
      "outputs": [
        {
          "output_type": "stream",
          "name": "stdout",
          "text": [
            "5\n"
          ]
        }
      ]
    },
    {
      "cell_type": "code",
      "source": [
        "def patron(a,b):\n",
        "  longA=len(a)\n",
        "  longB=len(b)\n",
        "  c=0\n",
        "  d=1\n",
        "  if longA!=longB:\n",
        "    return False\n",
        "\n",
        "  for i in range(len(a)):\n",
        "    for n in range(len(a)):\n",
        "      if i==n:\n",
        "        continue\n",
        "      if a[i]==a[n]:\n",
        "        return False\n",
        "      if b[i]==b[n]:\n",
        "        return False\n",
        "      if a[i]==b[n]:\n",
        "        return False\n",
        "\n",
        "  for i in range(len(a)):\n",
        "    while d<longA:\n",
        "      if ord(a[i])>ord(a[d]):\n",
        "        return False\n",
        "      if ord(b[i])>ord(b[d]):\n",
        "        return False\n",
        "      d+=1\n",
        "\n",
        "  return True\n",
        "\n",
        "a='abc'\n",
        "b='xyz'\n",
        "patron(a,b)\n",
        "#print(patron(a,b))"
      ],
      "metadata": {
        "colab": {
          "base_uri": "https://localhost:8080/"
        },
        "id": "ffu6Yl6i-rWo",
        "outputId": "eefc5456-9da2-4e55-8d6d-ac3a8978b7ad"
      },
      "execution_count": null,
      "outputs": [
        {
          "output_type": "stream",
          "name": "stdout",
          "text": [
            "97 99 101 120 121 122\n"
          ]
        },
        {
          "output_type": "execute_result",
          "data": {
            "text/plain": [
              "True"
            ]
          },
          "metadata": {},
          "execution_count": 51
        }
      ]
    },
    {
      "cell_type": "code",
      "source": [
        "a=5\n",
        "b=10\n",
        "a=a^b\n",
        "b=a^b\n",
        "a=a^b\n",
        "print(a,b)"
      ],
      "metadata": {
        "colab": {
          "base_uri": "https://localhost:8080/"
        },
        "id": "j-M3VcxlP2kd",
        "outputId": "e41d6408-0b76-4a10-c0ff-5296cec5ef5e"
      },
      "execution_count": null,
      "outputs": [
        {
          "output_type": "stream",
          "name": "stdout",
          "text": [
            "10 5\n"
          ]
        }
      ]
    },
    {
      "cell_type": "markdown",
      "source": [
        "# ***Data Structures***\n",
        "\n",
        "---\n",
        "\n",
        "*is a way of storing and organizing data according to a certain format or structure.*\n",
        "\n",
        "\n",
        "*   List\n",
        "*   Tuple\n",
        "*   Dictionary\n",
        "*   Set"
      ],
      "metadata": {
        "id": "AGokGFS9RoCQ"
      }
    },
    {
      "cell_type": "code",
      "source": [
        "#Lists\n",
        "num_seq = range(0, 10)  # A sequence from 0 to 9\n",
        "print(num_seq)\n",
        "num_list = list(num_seq)  # The list() method casts the sequence into a list\n",
        "print(num_list)\n",
        "\n",
        "num_seq = range(3, 20, 3)  # A sequence from 3 to 19 with a step of 3\n",
        "print(num_seq)\n",
        "print(list(num_seq))"
      ],
      "metadata": {
        "id": "4BK5y56TDfDu"
      },
      "execution_count": null,
      "outputs": []
    },
    {
      "cell_type": "code",
      "source": [
        "#Merging Lists\n",
        "part_A = [1, 2, 3, 4, 5]\n",
        "part_B = [6, 7, 8, 9, 10]\n",
        "merged_list = part_A + part_B\n",
        "print(merged_list)"
      ],
      "metadata": {
        "id": "zltws8ylEccP"
      },
      "execution_count": null,
      "outputs": []
    },
    {
      "cell_type": "markdown",
      "source": [
        "# ***Functions Lists***\n",
        "\n",
        "● append(elemento) Añade elemento\n",
        "● pop(indice) Elimina elemento y lo muestra\n",
        "● extend(lista) concatena dos listas\n",
        "● remove(elemento) Elimina la primera aparición de un elemento dado.\n",
        "● index(elemento, indice_inicial) Devuelve la posición de un elemento\n",
        "determinado\n",
        "● insert(indice, elemento) Inserta un elemento en una posición\n",
        "determinada.\n",
        "● clear() Elimina todos los elementos de la lista\n",
        "● count(elemento) Devuelve el número de veces que aparece el elemento en la lista\n",
        "● sort() Ordena los elementos de la lista\n",
        "● reverse() Invierte los elementos de la lista\n",
        "● copy() Devuelve una copia de la lista"
      ],
      "metadata": {
        "id": "TtqMnmVyE53V"
      }
    },
    {
      "cell_type": "markdown",
      "source": [
        "# ***List Comprehension***\n",
        "\n",
        "---\n",
        "\n",
        "*Is a technique that uses a for loop and a condition to create a new list from an existing one.*\n",
        "\n",
        "![image.png](data:image/png;base64,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)\n",
        "\n"
      ],
      "metadata": {
        "id": "CC7dP1JkJ6NO"
      }
    },
    {
      "cell_type": "code",
      "source": [
        "#Comprehesion\n",
        "nums = [10, 20, 30, 40, 50]\n",
        "\n",
        "# List comprehension\n",
        "nums_double = [n * 2 for n in nums]\n",
        "\n",
        "print(nums)\n",
        "print(nums_double)"
      ],
      "metadata": {
        "id": "I-reenRzKM5F"
      },
      "execution_count": null,
      "outputs": []
    },
    {
      "cell_type": "code",
      "source": [
        "#Adding a Condition\n",
        "nums = [10, 20, 30, 40, 50]\n",
        "\n",
        "# List comprehension\n",
        "nums_double = [n * 2 for n in nums if n % 4 == 0]\n",
        "\n",
        "print(nums)\n",
        "print(nums_double)"
      ],
      "metadata": {
        "id": "LmEUW9uvKlj1"
      },
      "execution_count": null,
      "outputs": []
    },
    {
      "cell_type": "code",
      "source": [
        "#Using Multiple Lists\n",
        "list1 = [30, 50, 110, 40, 15, 75]\n",
        "list2 = [10, 60, 20, 50]\n",
        "\n",
        "sum_list = [(n1, n2) for n1 in list1 for n2 in list2 if n1 + n2 > 100]\n",
        "\n",
        "print(sum_list)"
      ],
      "metadata": {
        "id": "HTeagU_dKoR9"
      },
      "execution_count": null,
      "outputs": []
    },
    {
      "cell_type": "markdown",
      "source": [
        "# ***Tuples***\n",
        "\n",
        "---\n",
        "\n",
        "*Is very similar to a list, except for the fact that its contents cannot be changed. Are immutable, we can’t add or delete elements from them.*"
      ],
      "metadata": {
        "id": "rcBNnuMt6QaE"
      }
    },
    {
      "cell_type": "code",
      "source": [
        "#Nested tuples\n",
        "hero1 = (\"Batman\", \"Bruce Wayne\")\n",
        "hero2 = (\"Wonder Woman\", \"Diana Prince\")\n",
        "awesome_team = (hero1, hero2)\n",
        "print(awesome_team)\n",
        "#Merging Tuples\n",
        "hero1 = (\"Batman\", \"Bruce Wayne\")\n",
        "hero2 = (\"Wonder Woman\", \"Diana Prince\")\n",
        "awesome_team = hero1 + hero2\n",
        "print(awesome_team)"
      ],
      "metadata": {
        "id": "jbDjY3s27s0i"
      },
      "execution_count": null,
      "outputs": []
    },
    {
      "cell_type": "markdown",
      "source": [
        "# ***Dictionary***\n",
        "\n",
        "---\n",
        "\n",
        "*A dictionary stores key-value pairs, where each unique key is an index which holds the value associated with it.*"
      ],
      "metadata": {
        "id": "MjIKTows7392"
      }
    },
    {
      "cell_type": "code",
      "source": [
        "#Diccionario\n",
        "empty_dict = dict()  # Empty dictionary\n",
        "print(empty_dict)\n",
        "\n",
        "phone_book = dict(Batman=468426, Cersei=237734, Ghostbusters=44678)\n",
        "# Keys will automatically be converted to strings\n",
        "print(phone_book)\n",
        "\n",
        "# Alternative approach\n",
        "phone_book = dict([('Batman', 468426),\n",
        "                   ('Cersei', 237734),\n",
        "                   ('Ghostbusters', 44678)])\n",
        "print(phone_book)"
      ],
      "metadata": {
        "colab": {
          "base_uri": "https://localhost:8080/"
        },
        "id": "WPAyinQPATEy",
        "outputId": "83ae1fb0-5e8c-4cba-b354-1386de875feb"
      },
      "execution_count": null,
      "outputs": [
        {
          "output_type": "stream",
          "name": "stdout",
          "text": [
            "{}\n",
            "{'Batman': 468426, 'Cersei': 237734, 'Ghostbusters': 44678}\n",
            "{'Batman': 468426, 'Cersei': 237734, 'Ghostbusters': 44678}\n",
            "{'Batman': 468426, 'Cersei': 237734, 'Ghostbusters': 44678, 'Ant-Man': 123456}\n"
          ]
        }
      ]
    },
    {
      "cell_type": "markdown",
      "source": [
        "# Accessing Values\n",
        "\n"
      ],
      "metadata": {
        "id": "-UKLTs4gCNN6"
      }
    },
    {
      "cell_type": "code",
      "source": [
        "phone_book = {\"Batman\": 468426,\n",
        "              \"Cersei\": 237734,\n",
        "              \"Ghostbusters\": 44678}\n",
        "print(phone_book[\"Cersei\"]) #Usando corchetes\n",
        "print(phone_book.get(\"Ghostbusters\")) #Usando parentesis"
      ],
      "metadata": {
        "id": "F024OP5QCSei"
      },
      "execution_count": null,
      "outputs": []
    },
    {
      "cell_type": "markdown",
      "source": [
        "# Dictionary Operations"
      ],
      "metadata": {
        "id": "ObcUKCaRC9EC"
      }
    },
    {
      "cell_type": "code",
      "source": [
        "#Adding/Updating Entries\n",
        "phone_book = dict([('Batman', 468426),\n",
        "                   ('Cersei', 237734),\n",
        "                   ('Ghostbusters', 44678)])\n",
        "print(phone_book)\n",
        "\n",
        "phone_book['Ant-Man']=123456 #Si queremos añadir solo uno\n",
        "print(phone_book)\n",
        "#Actualizar valor\n",
        "phone_book['Ant-Man']=456789\n",
        "print(phone_book)\n",
        "#Eliminar\n",
        "del phone_book[\"Batman\"]\n",
        "print(phone_book)\n",
        "#Guardar la llave eliminada\n",
        "eliminado = phone_book.pop(\"Cersei\")\n",
        "print(phone_book)\n",
        "print(eliminado)\n",
        "\n",
        "# Removes and returns the last inserted pair, as a tuple\n",
        "lastAdded = phone_book.popitem()\n",
        "print(lastAdded)\n",
        "\n",
        "#Copiar contenido\n",
        "second_phone_book = {\"Catwoman\": 67423, \"Jaime\": 237734, \"Godzilla\": 37623}\n",
        "\n",
        "phone_book.update(second_phone_book)\n",
        "print(phone_book)"
      ],
      "metadata": {
        "id": "-cBE139BDA7C"
      },
      "execution_count": null,
      "outputs": []
    },
    {
      "cell_type": "markdown",
      "source": [
        "# ***Comprehesion***"
      ],
      "metadata": {
        "id": "_Q-tkEZBHQGj"
      }
    },
    {
      "cell_type": "code",
      "source": [
        "#Repasar\n",
        "houses = {1: \"Gryffindor\", 2: \"Slytherin\", 3: \"Hufflepuff\", 4: \"Ravenclaw\"}\n",
        "new_houses = {n**2: house + \"!\" for (n, house) in houses.items()}\n",
        "print(houses)\n",
        "print(new_houses)"
      ],
      "metadata": {
        "id": "H1fKfIhKHT7Z"
      },
      "execution_count": null,
      "outputs": []
    },
    {
      "cell_type": "markdown",
      "source": [
        "# ***Sets***\n",
        "\n",
        "---\n",
        "\n",
        "*Is an unordered collection of data items.*"
      ],
      "metadata": {
        "id": "QzZBjjH-HeEJ"
      }
    },
    {
      "cell_type": "markdown",
      "source": [
        "**Modificar Conjuntos**"
      ],
      "metadata": {
        "id": "cpp2kazNIn1A"
      }
    },
    {
      "cell_type": "code",
      "source": [
        "aleatorioA = {\"Educative\", 1408, 3.142,(True, False)}\n",
        "print(aleatorioA)\n",
        "\n",
        "#Añadir valores\n",
        "aleatorio = set()\n",
        "print(aleatorio)\n",
        "\n",
        "aleatorio.add(1)\n",
        "print(aleatorio)\n",
        "\n",
        "aleatorio.update([2, 3, 4, 5, 6])\n",
        "print(aleatorio)\n",
        "\n",
        "#Eliminar valores\n",
        "aleatorioA.discard(\"Educative\")\n",
        "print(aleatorioA)\n",
        "aleatorioA.remove(1408)\n",
        "print(aleatorioA)\n",
        "\n"
      ],
      "metadata": {
        "id": "OBjgGJIMIqMe"
      },
      "execution_count": null,
      "outputs": []
    },
    {
      "cell_type": "markdown",
      "source": [
        "**Bucle FOR**"
      ],
      "metadata": {
        "id": "zhWTTVNILbyy"
      }
    },
    {
      "cell_type": "code",
      "source": [
        "odd_list = [1, 3, 5, 7]\n",
        "unordered_set = {9, 10, 11, 12, 13, 14, 15, 16, 17}\n",
        "\n",
        "print(unordered_set)\n",
        "\n",
        "for num in unordered_set:\n",
        "    if(not num % 2 == 0):\n",
        "        odd_list.append(num)\n",
        "\n",
        "print(odd_list)"
      ],
      "metadata": {
        "id": "JxlBroAaLf8A"
      },
      "execution_count": null,
      "outputs": []
    },
    {
      "cell_type": "markdown",
      "source": [
        "**Lista**: \n",
        "nums = [10, 20, 30, 40, 50]\n",
        "\n",
        "**Tupla**: \n",
        "hero1 = (\"Batman\", \"Bruce Wayne\")\n",
        "\n",
        "\n",
        "**Diccionario**: \n",
        "dict = {\"Batman\": 468426, \"Cersei\": 237734,\"Ghostbusters\": 44678}\n",
        "\n",
        "**Conjuntos**:\n",
        "aleatorio = {\"Educative\", 1408, 3.142,(True, False)}"
      ],
      "metadata": {
        "id": "iz1sQ8Sa809W"
      }
    },
    {
      "cell_type": "code",
      "source": [
        "#PRUEBA ---- Operadores de asignacion, limite de bytes. Error\n",
        "for i in range(14000,15000):\n",
        "  numero=1\n",
        "  numero<<=i\n",
        "  print(i, numero)"
      ],
      "metadata": {
        "id": "Ml2oDMk3YxTh"
      },
      "execution_count": null,
      "outputs": []
    }
  ]
}